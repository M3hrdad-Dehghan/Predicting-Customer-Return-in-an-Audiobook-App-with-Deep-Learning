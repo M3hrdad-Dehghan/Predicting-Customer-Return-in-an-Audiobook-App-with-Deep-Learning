{
  "cells": [
    {
      "cell_type": "markdown",
      "metadata": {
        "id": "BZbCdsYMHVIv"
      },
      "source": [
        "# **Project Goal**"
      ]
    },
    {
      "cell_type": "markdown",
      "metadata": {
        "id": "nTzGfKRmHVIw"
      },
      "source": [
        "There is a data from an Audiobook App. Logically, it relates to the audio versions of books ONLY. Each customer in the database has made a purchase at least once, that's why he/she is in the database. I want to create a machine learning algorithm based on the available data that can predict if a customer will buy again from the Audiobook company.\n",
        "\n",
        "The main idea is that if a customer has a low probability of coming back, there is no reason to spend any money on advertising to him/her. If company can focus our efforts SOLELY on customers that are likely to convert again, we can make great savings."
      ]
    },
    {
      "cell_type": "markdown",
      "metadata": {
        "id": "iAAEsin0Iva3"
      },
      "source": [
        "# **Libraries and Packages**"
      ]
    },
    {
      "cell_type": "code",
      "execution_count": null,
      "metadata": {
        "id": "M1BTzSDPIygW"
      },
      "outputs": [],
      "source": [
        "import numpy as np\n",
        "from sklearn import preprocessing\n",
        "import tensorflow as tf"
      ]
    },
    {
      "cell_type": "markdown",
      "metadata": {
        "id": "REvLOuCnHxmx"
      },
      "source": [
        "# **Data Eyeballing**"
      ]
    },
    {
      "cell_type": "markdown",
      "metadata": {
        "id": "WgFYvMGiH1h9"
      },
      "source": [
        "There are several variables:\n",
        "- `Customer ID`\n",
        "- `Book length overall`: sum of the minute length of all purchases\n",
        "- `Book length avg`: average length in minutes of all purchases\n",
        "- `Price paid_overall`: sum of all purchases\n",
        "- `Price Paid avg`: average of all purchases\n",
        "- `Review`: a Boolean variable whether the customer left a review\n",
        "- `Review out of 10`: if the customer left a review, his/her review out of 10\n",
        "- `Total minutes listened`\n",
        "- `Completion`: from 0 to 1\n",
        "- `Support requests`: number of support requests\n",
        "- `Last visited minus`"
      ]
    },
    {
      "cell_type": "markdown",
      "metadata": {
        "id": "JgnxsNLyJZ2U"
      },
      "source": [
        "![Screenshot 2025-04-08 212353.png](data:image/png;base64,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)"
      ]
    },
    {
      "cell_type": "markdown",
      "metadata": {
        "id": "7y0GY9GoJcbk"
      },
      "source": [
        "# **Load Data**"
      ]
    },
    {
      "cell_type": "markdown",
      "metadata": {
        "id": "NXrvCAu3I2jA"
      },
      "source": [
        "I will use the sklearn preprocessing library, as it will be easier to standardize the data."
      ]
    },
    {
      "cell_type": "code",
      "execution_count": null,
      "metadata": {
        "id": "1g65fuYPH1QN"
      },
      "outputs": [],
      "source": [
        "raw_csv_data = np.loadtxt('/content/drive/MyDrive/DataScience/deep/Audiobooks_data.csv',\n",
        "                          delimiter = ',')"
      ]
    },
    {
      "cell_type": "markdown",
      "metadata": {
        "id": "HpoKJs6NLV3Y"
      },
      "source": [
        "# **Segregate Target and Features**"
      ]
    },
    {
      "cell_type": "markdown",
      "metadata": {
        "id": "kGTKdFVnLi_z"
      },
      "source": [
        "The inputs are all columns in the csv, except for the first one which is customer ID. This columns is just the arbitrary column that bear no useful information. Also, the last one which is our targets. (1 means probaboly customer will back and 0 not)."
      ]
    },
    {
      "cell_type": "code",
      "execution_count": null,
      "metadata": {
        "id": "VuE0GhRvH1N8"
      },
      "outputs": [],
      "source": [
        "unscaled_inputs_all = raw_csv_data[:, 1:-1]\n",
        "targets_all = raw_csv_data[: , -1]"
      ]
    },
    {
      "cell_type": "markdown",
      "metadata": {
        "id": "TOBWWonQMraM"
      },
      "source": [
        "# **Balance Data**"
      ]
    },
    {
      "cell_type": "markdown",
      "metadata": {
        "id": "JSAbEMD5M4gP"
      },
      "source": [
        "First, we should count how many targets are 1"
      ]
    },
    {
      "cell_type": "code",
      "execution_count": null,
      "metadata": {
        "colab": {
          "base_uri": "https://localhost:8080/"
        },
        "id": "wPDGq_JvM2OQ",
        "outputId": "7b13bcc5-42ba-43a8-a9a5-3f126c210bd7"
      },
      "outputs": [
        {
          "name": "stdout",
          "output_type": "stream",
          "text": [
            "2237\n"
          ]
        }
      ],
      "source": [
        "num_one_targets = int(np.sum(targets_all))\n",
        "print(num_one_targets)"
      ]
    },
    {
      "cell_type": "markdown",
      "metadata": {
        "id": "UXg1zPtkNHLm"
      },
      "source": [
        "Set a counter for targets that are 0 (meaning that the customer did not convert)"
      ]
    },
    {
      "cell_type": "code",
      "execution_count": null,
      "metadata": {
        "id": "2fwQnk9gM2LS"
      },
      "outputs": [],
      "source": [
        "zero_targets_counter = 0"
      ]
    },
    {
      "cell_type": "markdown",
      "metadata": {
        "id": "-K62hDQ3NLdG"
      },
      "source": [
        "I want to create a \"balanced\" dataset, so I will have to remove some input/target pairs. Now, I declare a variable that will do that:"
      ]
    },
    {
      "cell_type": "code",
      "execution_count": null,
      "metadata": {
        "id": "TnaP_TOYNEaM"
      },
      "outputs": [],
      "source": [
        "indices_to_remove = []"
      ]
    },
    {
      "cell_type": "markdown",
      "metadata": {
        "id": "0c6cjMsTNWNK"
      },
      "source": [
        "Now, I count the number of targets that are 0.  Once there are as many 0s as 1s, mark entries where the target is 0."
      ]
    },
    {
      "cell_type": "code",
      "execution_count": null,
      "metadata": {
        "id": "_tYeLpjINEXk"
      },
      "outputs": [],
      "source": [
        "for i in range(targets_all.shape[0]):\n",
        "    if targets_all[i] == 0:\n",
        "        zero_targets_counter += 1\n",
        "        if zero_targets_counter > num_one_targets:\n",
        "            indices_to_remove.append(i)"
      ]
    },
    {
      "cell_type": "markdown",
      "metadata": {
        "id": "5W94wT55NwWQ"
      },
      "source": [
        "Finnaly, I create two new variables, one that will contain the inputs, and one that will contain the targets. I delete all indices that were marked \"to remove\" in the loop above."
      ]
    },
    {
      "cell_type": "code",
      "execution_count": null,
      "metadata": {
        "id": "aGVT3oKnM2Iq"
      },
      "outputs": [],
      "source": [
        "unscaled_inputs_equal_priors = np.delete(unscaled_inputs_all,\n",
        "                                         indices_to_remove,\n",
        "                                         axis=0)\n",
        "\n",
        "targets_equal_priors = np.delete(targets_all,\n",
        "                                 indices_to_remove,\n",
        "                                 axis=0)"
      ]
    },
    {
      "cell_type": "markdown",
      "metadata": {
        "id": "YZEnX7bJOEwE"
      },
      "source": [
        "# **Standardize Data**"
      ]
    },
    {
      "cell_type": "markdown",
      "metadata": {
        "id": "N6z12Sv5OKgx"
      },
      "source": [
        "That's the only place I use sklearn functionality which standardizes the inputs."
      ]
    },
    {
      "cell_type": "code",
      "execution_count": null,
      "metadata": {
        "id": "TALqiHHTH1I_"
      },
      "outputs": [],
      "source": [
        "scaled_inputs = preprocessing.scale(unscaled_inputs_equal_priors)"
      ]
    },
    {
      "cell_type": "markdown",
      "metadata": {
        "id": "Q5Ss8y1DPGmQ"
      },
      "source": [
        "# **Shuffle Data**"
      ]
    },
    {
      "cell_type": "markdown",
      "metadata": {
        "id": "5kdrgc0qPNA2"
      },
      "source": [
        "When the data was collected it was actually arranged by date. Shuffle the indices of the data, so the data is not arranged in any way when I feed it. Since I will be batching, I want the data to be as randomly spread out as possible."
      ]
    },
    {
      "cell_type": "code",
      "execution_count": null,
      "metadata": {
        "colab": {
          "base_uri": "https://localhost:8080/"
        },
        "id": "MCZVr6TFLUTD",
        "outputId": "047381b9-d401-4faa-bfa8-4b7118acf57a"
      },
      "outputs": [
        {
          "name": "stdout",
          "output_type": "stream",
          "text": [
            "[   0    1    2 ... 4471 4472 4473]\n"
          ]
        }
      ],
      "source": [
        "shuffled_indices = np.arange(scaled_inputs.shape[0])\n",
        "print(shuffled_indices)"
      ]
    },
    {
      "cell_type": "code",
      "execution_count": null,
      "metadata": {
        "id": "WY0_A9DeLUQQ"
      },
      "outputs": [],
      "source": [
        "np.random.shuffle(shuffled_indices)"
      ]
    },
    {
      "cell_type": "markdown",
      "metadata": {
        "id": "cwjTDpdMPfyD"
      },
      "source": [
        "Now I use the shuffled indices to shuffle the inputs and targets."
      ]
    },
    {
      "cell_type": "code",
      "execution_count": null,
      "metadata": {
        "id": "38aGo3H6LULS"
      },
      "outputs": [],
      "source": [
        "shuffled_inputs = scaled_inputs[shuffled_indices]\n",
        "\n",
        "shuffled_targets = targets_equal_priors[shuffled_indices]"
      ]
    },
    {
      "cell_type": "markdown",
      "metadata": {
        "id": "CzLvJuJrPsd5"
      },
      "source": [
        "# **Split Data**"
      ]
    },
    {
      "cell_type": "markdown",
      "metadata": {
        "id": "FR3CHmt0PzHk"
      },
      "source": [
        "First I count the total number of samples"
      ]
    },
    {
      "cell_type": "code",
      "execution_count": null,
      "metadata": {
        "colab": {
          "base_uri": "https://localhost:8080/"
        },
        "id": "kd-dxL0vLUIt",
        "outputId": "7d5756e9-fb27-42ac-b419-c2c409ecb1b7"
      },
      "outputs": [
        {
          "name": "stdout",
          "output_type": "stream",
          "text": [
            "Total sample:  4474\n"
          ]
        }
      ],
      "source": [
        "samples_count = shuffled_inputs.shape[0]\n",
        "print('Total sample: ', samples_count)"
      ]
    },
    {
      "cell_type": "markdown",
      "metadata": {
        "id": "TdZmCByaP5oj"
      },
      "source": [
        "Then, I count the samples in each subset, assuming I want 80-10-10 distribution of training, validation, and test."
      ]
    },
    {
      "cell_type": "code",
      "execution_count": null,
      "metadata": {
        "colab": {
          "base_uri": "https://localhost:8080/"
        },
        "id": "QeXaLs6IHVIz",
        "outputId": "4fb84900-ae9d-44e2-d09e-3d87aac6687d"
      },
      "outputs": [
        {
          "name": "stdout",
          "output_type": "stream",
          "text": [
            "Total train: 3579\n",
            "Total val: 447\n"
          ]
        }
      ],
      "source": [
        "train_samples_count = int(0.8 * samples_count)\n",
        "validation_samples_count = int(0.1 * samples_count)\n",
        "\n",
        "print('Total train:' , train_samples_count)\n",
        "print('Total val:' , validation_samples_count)"
      ]
    },
    {
      "cell_type": "markdown",
      "metadata": {
        "id": "FwBn-uxvQH9G"
      },
      "source": [
        "The 'test' dataset contains all remaining data."
      ]
    },
    {
      "cell_type": "code",
      "execution_count": null,
      "metadata": {
        "colab": {
          "base_uri": "https://localhost:8080/"
        },
        "id": "dM_7UhlLRIRH",
        "outputId": "b0ef98de-435d-4145-f03a-f6ad1f965ce4"
      },
      "outputs": [
        {
          "name": "stdout",
          "output_type": "stream",
          "text": [
            "Total test: 448\n"
          ]
        }
      ],
      "source": [
        "test_samples_count = samples_count - train_samples_count - validation_samples_count\n",
        "print('Total test:' , test_samples_count)"
      ]
    },
    {
      "cell_type": "markdown",
      "metadata": {
        "id": "lmArQVU-RLw9"
      },
      "source": [
        "Now, I create variables that record the inputs and targets for training. In our shuffled dataset, they are the first \"train_samples_count\" observations."
      ]
    },
    {
      "cell_type": "code",
      "execution_count": null,
      "metadata": {
        "id": "DBBuKjBhQoR3"
      },
      "outputs": [],
      "source": [
        "train_inputs = shuffled_inputs[ : train_samples_count]\n",
        "train_targets = shuffled_targets[ : train_samples_count]"
      ]
    },
    {
      "cell_type": "markdown",
      "metadata": {
        "id": "efAIuBaMRXCG"
      },
      "source": [
        "Now, I create variables that record the inputs and targets for validation They are the next \"validation_samples_count\" observations, folllowing the \"train_samples_count\" I already assigned."
      ]
    },
    {
      "cell_type": "code",
      "execution_count": null,
      "metadata": {
        "id": "tYe9exOdQoPl"
      },
      "outputs": [],
      "source": [
        "validation_inputs = shuffled_inputs[train_samples_count : train_samples_count + validation_samples_count]\n",
        "validation_targets = shuffled_targets[train_samples_count : train_samples_count + validation_samples_count]"
      ]
    },
    {
      "cell_type": "markdown",
      "metadata": {
        "id": "83Pme-nqRmRm"
      },
      "source": [
        "Finnaly, I create variables that record the inputs and targets for test They are everything that is remaining."
      ]
    },
    {
      "cell_type": "code",
      "execution_count": null,
      "metadata": {
        "id": "wkpMdGmsQoNS"
      },
      "outputs": [],
      "source": [
        "test_inputs = shuffled_inputs[train_samples_count + validation_samples_count : ]\n",
        "test_targets = shuffled_targets[train_samples_count + validation_samples_count : ]"
      ]
    },
    {
      "cell_type": "markdown",
      "metadata": {
        "id": "-7EpCGJURxW-"
      },
      "source": [
        "Finnaly, I print the number of targets that are 1s, the total number of samples, and the proportion for training, validation, and test.\n"
      ]
    },
    {
      "cell_type": "code",
      "execution_count": null,
      "metadata": {
        "colab": {
          "base_uri": "https://localhost:8080/"
        },
        "id": "hTC-gJ3EPqid",
        "outputId": "49d7a79c-ff02-46eb-a5bb-7b96ab0104ae"
      },
      "outputs": [
        {
          "name": "stdout",
          "output_type": "stream",
          "text": [
            "Number of target One in training is 1782.0, and this dataset has 3579 rows. So, 0.4979044425817267% of customer are liekly to come back\n",
            "Number of target One in validation is 232.0, and this dataset has 447 rows. So, 0.5190156599552572% of customer are liekly to come back\n",
            "Number of target One in test is 223.0, and this dataset has 448 rows. So, 0.49776785714285715% of customer are liekly to come back\n"
          ]
        }
      ],
      "source": [
        "print(\"Number of target One in training is {}, and this dataset has {} rows. So, {}% of customer are liekly to come back\".format(np.sum(train_targets), train_samples_count, np.sum(train_targets) / train_samples_count))\n",
        "print(\"Number of target One in validation is {}, and this dataset has {} rows. So, {}% of customer are liekly to come back\".format(np.sum(validation_targets), validation_samples_count, np.sum(validation_targets) / validation_samples_count))\n",
        "print(\"Number of target One in test is {}, and this dataset has {} rows. So, {}% of customer are liekly to come back\".format(np.sum(test_targets), test_samples_count, np.sum(test_targets) / test_samples_count))"
      ]
    },
    {
      "cell_type": "markdown",
      "metadata": {
        "id": "Pl29zm4ES9aT"
      },
      "source": [
        "It shows we have balanced dataset now."
      ]
    },
    {
      "cell_type": "markdown",
      "metadata": {
        "id": "0a3mynOlVsCP"
      },
      "source": [
        "# **Prepare Data**"
      ]
    },
    {
      "cell_type": "markdown",
      "metadata": {
        "id": "eaY5YOQPVwHv"
      },
      "source": [
        "I should ensure that features all floats. Target must be int, because later I use sparse categorical crossentropy for doing one-hot encoding."
      ]
    },
    {
      "cell_type": "code",
      "execution_count": null,
      "metadata": {
        "id": "pRfy3e_8T4uO"
      },
      "outputs": [],
      "source": [
        "train_inputs = train_inputs.astype(float)\n",
        "train_targets = train_targets.astype(int)"
      ]
    },
    {
      "cell_type": "markdown",
      "metadata": {
        "id": "X_VlwqMqWYfM"
      },
      "source": [
        "I also do the same for validation and test;"
      ]
    },
    {
      "cell_type": "code",
      "execution_count": null,
      "metadata": {
        "id": "qpN92ZK7T4pV"
      },
      "outputs": [],
      "source": [
        "validation_inputs, validation_targets = validation_inputs.astype(float), validation_targets.astype(int)"
      ]
    },
    {
      "cell_type": "code",
      "execution_count": null,
      "metadata": {
        "id": "Z3RiNgZQT4mr"
      },
      "outputs": [],
      "source": [
        "test_inputs, test_targets = test_inputs.astype(float), test_targets.astype(int)"
      ]
    },
    {
      "cell_type": "markdown",
      "metadata": {
        "id": "dxpTVm4lXOHP"
      },
      "source": [
        "# **Model Training**"
      ]
    },
    {
      "cell_type": "markdown",
      "metadata": {
        "id": "nQvLx-fjPXTG"
      },
      "source": [
        "First, we should set dimension of output and input:"
      ]
    },
    {
      "cell_type": "code",
      "execution_count": null,
      "metadata": {
        "id": "r-rtlMNET4j6"
      },
      "outputs": [],
      "source": [
        "input_size = 10\n",
        "output_size = 2"
      ]
    },
    {
      "cell_type": "markdown",
      "metadata": {
        "id": "BnjqeR-VPg59"
      },
      "source": [
        "I use 50 hidden layer size for both hidden layers."
      ]
    },
    {
      "cell_type": "code",
      "execution_count": null,
      "metadata": {
        "id": "3VJK3QdGT4hO"
      },
      "outputs": [],
      "source": [
        "hidden_layer_size = 50"
      ]
    },
    {
      "cell_type": "markdown",
      "metadata": {
        "id": "PPaHikLNPo5x"
      },
      "source": [
        "Now I define how the model will look like:"
      ]
    },
    {
      "cell_type": "code",
      "execution_count": null,
      "metadata": {
        "id": "lYs7InDGW0wL"
      },
      "outputs": [],
      "source": [
        "model = tf.keras.Sequential([\n",
        "    tf.keras.layers.Dense(hidden_layer_size, activation='relu'), # 1st hidden layer\n",
        "    tf.keras.layers.Dense(hidden_layer_size, activation='relu'), # 2nd hidden layer\n",
        "    tf.keras.layers.Dense(hidden_layer_size, activation='relu'),\n",
        "    tf.keras.layers.Dense(output_size, activation='softmax') # output layer and use softmax because we have binary problem.\n",
        "])"
      ]
    },
    {
      "cell_type": "markdown",
      "metadata": {
        "id": "V2Zzb9ruP4Kt"
      },
      "source": [
        "Then, I choose the optimizer and the loss function. I define the optimizer and the metrics I am interested in obtaining at each iteration"
      ]
    },
    {
      "cell_type": "code",
      "execution_count": null,
      "metadata": {
        "id": "ill4FYkPW0rL"
      },
      "outputs": [],
      "source": [
        "model.compile(optimizer='adam',\n",
        "              loss='sparse_categorical_crossentropy', #We need to one-hot encode data\n",
        "              metrics=['accuracy'])"
      ]
    },
    {
      "cell_type": "markdown",
      "metadata": {
        "id": "4BqIBPCtQNfR"
      },
      "source": [
        "Now, it's time to set batch size and number of epoch:"
      ]
    },
    {
      "cell_type": "code",
      "execution_count": null,
      "metadata": {
        "id": "gU6kdtPSQRHL"
      },
      "outputs": [],
      "source": [
        "batch_size = 50\n",
        "max_epochs = 200"
      ]
    },
    {
      "cell_type": "markdown",
      "metadata": {
        "id": "HBgafFOYQXzx"
      },
      "source": [
        "Also, for preventing overfitting, I set earlystopping with patience 2. In this case I am a bit tolerant against random validation loss increases"
      ]
    },
    {
      "cell_type": "code",
      "execution_count": null,
      "metadata": {
        "id": "Hc8lPhkjQdKj"
      },
      "outputs": [],
      "source": [
        "early_stopping = tf.keras.callbacks.EarlyStopping(patience=2)"
      ]
    },
    {
      "cell_type": "markdown",
      "metadata": {
        "id": "0_n4uFgxQmcA"
      },
      "source": [
        "And last step is fit and run the model:"
      ]
    },
    {
      "cell_type": "code",
      "execution_count": null,
      "metadata": {
        "colab": {
          "base_uri": "https://localhost:8080/"
        },
        "id": "8x3Jum6v-ASn",
        "outputId": "be61aab9-0ab2-4204-c357-a7ae0bd40bfb"
      },
      "outputs": [
        {
          "name": "stdout",
          "output_type": "stream",
          "text": [
            "Epoch 1/200\n",
            "72/72 - 1s - 11ms/step - accuracy: 0.8164 - loss: 0.3351 - val_accuracy: 0.7987 - val_loss: 0.3586\n",
            "Epoch 2/200\n",
            "72/72 - 1s - 17ms/step - accuracy: 0.8259 - loss: 0.3319 - val_accuracy: 0.8121 - val_loss: 0.3471\n",
            "Epoch 3/200\n",
            "72/72 - 0s - 5ms/step - accuracy: 0.8189 - loss: 0.3335 - val_accuracy: 0.8121 - val_loss: 0.3464\n",
            "Epoch 4/200\n",
            "72/72 - 1s - 7ms/step - accuracy: 0.8145 - loss: 0.3357 - val_accuracy: 0.8054 - val_loss: 0.3483\n",
            "Epoch 5/200\n",
            "72/72 - 0s - 3ms/step - accuracy: 0.8240 - loss: 0.3330 - val_accuracy: 0.8054 - val_loss: 0.3586\n"
          ]
        },
        {
          "data": {
            "text/plain": [
              "<keras.src.callbacks.history.History at 0x7ad9c514e590>"
            ]
          },
          "execution_count": 39,
          "metadata": {},
          "output_type": "execute_result"
        }
      ],
      "source": [
        "model.fit(train_inputs, # train inputs\n",
        "          train_targets, # train targets\n",
        "          batch_size = batch_size, # batch size\n",
        "          epochs = max_epochs, # epochs that we will train for\n",
        "          callbacks = [early_stopping], # early stopping\n",
        "          validation_data = (validation_inputs, validation_targets), # validation data\n",
        "          verbose = 2 # making sure we get enough information about the training process\n",
        "          )"
      ]
    },
    {
      "cell_type": "markdown",
      "metadata": {
        "id": "pxCGov2yRP-a"
      },
      "source": [
        "# **Test Model**"
      ]
    },
    {
      "cell_type": "markdown",
      "metadata": {
        "id": "Itgnp7_FRRyp"
      },
      "source": [
        "In training we get 82% accuracy in training and 80% accuracy in validation. Now, we can test it."
      ]
    },
    {
      "cell_type": "code",
      "execution_count": null,
      "metadata": {
        "colab": {
          "base_uri": "https://localhost:8080/"
        },
        "id": "jb-437f6TZUm",
        "outputId": "f2365547-0d67-4cd5-bb37-f1a86a407b99"
      },
      "outputs": [
        {
          "name": "stdout",
          "output_type": "stream",
          "text": [
            "\u001b[1m14/14\u001b[0m \u001b[32m━━━━━━━━━━━━━━━━━━━━\u001b[0m\u001b[37m\u001b[0m \u001b[1m0s\u001b[0m 3ms/step - accuracy: 0.8089 - loss: 0.3713 \n"
          ]
        }
      ],
      "source": [
        "test_loss, test_accuracy = model.evaluate(test_inputs,\n",
        "                                          test_targets)"
      ]
    },
    {
      "cell_type": "code",
      "execution_count": null,
      "metadata": {
        "colab": {
          "base_uri": "https://localhost:8080/"
        },
        "id": "dlcnO6PhTZUm",
        "outputId": "b733a051-1deb-46af-fd28-3e1c8a4e8558"
      },
      "outputs": [
        {
          "name": "stdout",
          "output_type": "stream",
          "text": [
            "\n",
            "Test loss: 0.35. Test accuracy: 82.14%\n"
          ]
        }
      ],
      "source": [
        "print('\\nTest loss: {0:.2f}. Test accuracy: {1:.2f}%'.format(test_loss, test_accuracy*100.))"
      ]
    },
    {
      "cell_type": "markdown",
      "metadata": {
        "id": "7n0OFIOjTZUm"
      },
      "source": [
        "Note that each time the code is rerun, we get a different accuracy because each training is different.\n",
        "\n",
        "We have intentionally reached a suboptimal solution, so you can have space to build on it!"
      ]
    }
  ],
  "metadata": {
    "colab": {
      "collapsed_sections": [
        "BZbCdsYMHVIv",
        "iAAEsin0Iva3",
        "REvLOuCnHxmx",
        "7y0GY9GoJcbk",
        "HpoKJs6NLV3Y",
        "TOBWWonQMraM",
        "YZEnX7bJOEwE",
        "Q5Ss8y1DPGmQ",
        "CzLvJuJrPsd5"
      ],
      "provenance": []
    },
    "kernelspec": {
      "display_name": "Python 3",
      "language": "python",
      "name": "python3"
    },
    "language_info": {
      "codemirror_mode": {
        "name": "ipython",
        "version": 3
      },
      "file_extension": ".py",
      "mimetype": "text/x-python",
      "name": "python",
      "nbconvert_exporter": "python",
      "pygments_lexer": "ipython3",
      "version": "3.6.2"
    }
  },
  "nbformat": 4,
  "nbformat_minor": 0
}